{
    "cells": [
        {
            "cell_type": "markdown",
            "metadata": {},
            "source": [
                "<img src=\"https://www.th-koeln.de/img/logo.svg\" style=\"float: right;\" width=\"200\">"
            ]
        },
        {
            "cell_type": "markdown",
            "metadata": {},
            "source": [
                "# Examination DIS21a.1: <font color=\"#C70039\">Examination data sets and description</font>\n",
                "* Course: DIS21a.1\n",
                "* Term: Winter semester 2022/2023\n",
                "* Lecturer: <a href=\"https://www.gernotheisenberg.de/\">Gernot Heisenberg</a>\n",
                "* Date:   24.12.2022\n",
                "\n",
                "<img src=\"https://www.wishesmsg.com/wp-content/uploads/exam-wishes.jpg\" style=\"float: center;\" width=\"250\">\n",
                "\n",
                "---------------------------------\n",
                "\n"
            ]
        },
        {
            "cell_type": "markdown",
            "metadata": {},
            "source": [
                "_________________________________________________________\n",
                "### Data sets\n",
                "\n",
                "Each data set is described in its own section.\n",
                "\n",
                "You will find the name of the data set, a download link on sciebo and an assignment of you team. \n",
                "The teams can be found on: https://docs.google.com/spreadsheets/d/1DeGPJMXGL54YuzrXHQEbOs2YmuJS-bw7_QUoYhnsIeo/edit#gid=0\n",
                "_________________________________________________________"
            ]
        },
        {
            "cell_type": "markdown",
            "metadata": {},
            "source": [
                "### 1. data set\n",
                "\n",
                "* Data set: Bee vs. Wasp \n",
                "* Type: Classification of bees and wasps by their images\n",
                "* Team: A\n",
                "* Download link: https://th-koeln.sciebo.de/s/QF4TkzTIioFimO9\n",
                "* Description:\n",
                "This data set contains close-up photos of `bees`, `wasps`, and `other` insects. The task is to distinguish bees from wasps. \n",
                "\n",
                "--------------------------------------------\n",
                "The file 'labels.csv' contains the following information:\n",
                "\n",
                "id,path,is_bee,is_wasp,is_otherinsect,is_other,photo_quality,is_validation,is_final_validation\n",
                "- 1,bee1\\10007154554_026417cfd0_n.jpg,1,0,0,0,1,0,0\n",
                "- 2,bee1\\10024864894_6dc54d4b34_n.jpg,1,0,0,0,1,0,1\n",
                "- 3,bee1\\10092043833_7306dfd1f0_n.jpg,1,0,0,0,1,1,0\n",
                "- 6842,wasp2\\I00101.jpg,0,1,0,0,0,0,0\n",
                "- 6843,wasp2\\I00102.jpg,0,1,0,0,0,0,0\n",
                "- 6844,wasp2\\I00103.jpg,0,1,0,0,0,1,0\n",
                "\n",
                "Description of the attributes used in 'labels.csv':\n",
                "\n",
                "* `id` - ordinal - unique index\n",
                "* `path` - string - relative path to the photo, including extension\n",
                "* `is_bee` - nominal - 1 if there is a bee in the photo\n",
                "* `is_wasp` - nominal - 1 if there is a wasp in the photo\n",
                "* `is_otherinsect` - nominal - 1 if there is other insect prominently in the centre of the photo, but it is not a wasp and not a bee. It might be a fly, but there are other things there too, like beetles\n",
                "* `is_other` - random photos not containing any insects\n",
                "* `photo_quality` - 1 for photos where there is very high confidence that it is bee, wasp, or other. 0 for photos of generally low quality or where not being very confident that it is what it says it is. You can use this to initially reduce the size of the training set\n",
                "* `is_validation` - you can use this for your training validation, or you can combine these with the training data and split your training/validation differently\n",
                "* `is_final_validation` - do NOT use these photos for training - use them to compute your final score.\n",
                "\n",
                "--------------------------------------------\n"
            ]
        },
        {
            "cell_type": "markdown",
            "metadata": {},
            "source": [
                "### 2. data set\n",
                "\n",
                "* Data set: Basic Emotion after Paul Ekman \n",
                "* Type: Classification of the six basic emotions of humans: fear, anger, joy, sadness, contempt, disgust and surprise\n",
                "* Team: B\n",
                "* Download link: https://th-koeln.sciebo.de/s/xXKXrtqIYk6wODH\n",
                "* Description: This data set contains a training partition and a test partition of face images already. These are sorted by the six basic emotions according to Paul Ekman. Develop a classifier that distinguishes the images in the best possible way.\n",
                "\n",
                "--------------------------------------------\n"
            ]
        },
        {
            "cell_type": "markdown",
            "metadata": {},
            "source": [
                "### 3. data set\n",
                "\n",
                "* Data set: Malaria \n",
                "* Type: Classification of parasitized and uninfected cell images\n",
                "* Team: C\n",
                "* Download link: https://th-koeln.sciebo.de/s/9vzdWP5HcYfv3cf \n",
                "* Description: This data set contains partitions of parasitized and uninfected cell images. Develop a classifier that distinguishes the images in the best possible way.\n",
                "\n",
                "--------------------------------------------\n"
            ]
        },
        {
            "cell_type": "markdown",
            "metadata": {},
            "source": [
                "### 4. data set\n",
                "\n",
                "* Data set: Brain Tumor \n",
                "* Type: Classification of three different brain tumor types in MRI images \n",
                "* Team: D\n",
                "* Download link: https://th-koeln.sciebo.de/s/BKJVkB2ipaHU9yh\n",
                "* Description: This data set contains partitions of images of different brain tumors. These are {glioma_tumor; meningioma_tumor; pituitary_tumor; no_tumor}. Develop a classifier that distinguishes the images in the best possible way.\n",
                "\n",
                "--------------------------------------------"
            ]
        },
        {
            "cell_type": "markdown",
            "metadata": {},
            "source": [
                "### 5. data set\n",
                "\n",
                "* Data set: Face Masks\n",
                "* Type: Classification of images of humans wearing a face mask \n",
                "* Team: E\n",
                "* Download link: https://th-koeln.sciebo.de/s/TtjMD0mkojBdCv1\n",
                "* Description: This data set contains partitions of images of humans that are wearing or not a face mask. Develop a classifier that distinguishes the images in the best possible way.\n",
                "--------------------------------------------"
            ]
        },
        {
            "cell_type": "markdown",
            "metadata": {},
            "source": [
                "### 6. data set\n",
                "\n",
                "* Data set: Flowers\n",
                "* Type: Classification of five different kinds of flowers by their images \n",
                "* Team: F\n",
                "* Download link: https://th-koeln.sciebo.de/s/bFRK137jI04AtC0\n",
                "* Description: This data set contains partitions of images of different flowers. These are {daisy, dadelion, rose, sunflower, tulip}. Develop a classifier that distinguishes the images in the best possible way.\n",
                "\n",
                "--------------------------------------------"
            ]
        },
        {
            "cell_type": "markdown",
            "metadata": {},
            "source": [
                "### 7. data set\n",
                "\n",
                "* Data set: Fruits\n",
                "* Type: Classification of different kinds of fruits by their images \n",
                "* Team: G\n",
                "* Download link: https://th-koeln.sciebo.de/s/rjrpFcTcUyJwyoY\n",
                "* Description: This data set contains partitions of images of different flowers. These are {Apple Braeburn, Apple Granny Smith, Apricot, Avocado, Banana, Blueberry, Cactus Fruit, Cantaloupe, Cherry, Clementine, Corn, Cucumber Ripe, Grape Blue, Kiwi, Lemon, Limes, Mango, Onion White, Orange, Papaya, Passion Fruit, Peach, Pear, Pepper Green, Pepper Red, Pineapple, Plum, Pomegranate, Potato Red, Raspberry, Strawberry, Tomato, Watermelon}. Develop a classifier that distinguishes the images in the best possible way.\n",
                "\n",
                "--------------------------------------------"
            ]
        },
        {
            "cell_type": "markdown",
            "metadata": {},
            "source": [
                "### 8. data set\n",
                "\n",
                "* Data set: Grapevine leaves\n",
                "* Type: Classification of five different kinds of grapevine leaves by their images \n",
                "* Team: H\n",
                "* Download link: https://th-koeln.sciebo.de/s/Prnlfkzb6s27pxQ\n",
                "* Description: The main product of grapevines is grapes that are consumed fresh or processed. In addition, grapevine leaves are harvested once a year as a by-product. The species of grapevine leaves are important in terms of price and taste. This data set contains partitions of 500 images of different vine leave classes. These are {Ak, Ala Idris, Buzgulu, Dimnit, Nazli). Develop a classifier that distinguishes the images in the best possible way.\n",
                "\n",
                "--------------------------------------------"
            ]
        },
        {
            "cell_type": "markdown",
            "metadata": {},
            "source": [
                "### 9. data set\n",
                "\n",
                "* Data set: Sick Bees\n",
                "* Type: Classification of images that show sick and healthy bees \n",
                "* Team: I\n",
                "* Download link: https://th-koeln.sciebo.de/s/GNN9UB67DyFEcqH\n",
                "* Description: This data set contains images of bees that are either healthy or sick. It also contains a file called 'bee_data.csv'. The file contains the following attributes:\n",
                "\n",
                "file,date,time,location,zip code,subspecies,health,pollen_carrying,caste\n",
                "\n",
                "Develop a classifier that distinguishes the sick from the healthy bees in the best possible way.\n",
                "\n",
                "--------------------------------------------"
            ]
        },
        {
            "cell_type": "markdown",
            "metadata": {},
            "source": [
                "### 10. data set\n",
                "\n",
                "* Data set: Environment\n",
                "* Type: Classification of images from a data set showing six different environments. \n",
                "* Team: J\n",
                "* Download link: https://th-koeln.sciebo.de/s/GNN9UB67DyFEcqH\n",
                "* Description: This data set contains partitions of images of different environments. These are {streets, sea, mountain, glacier, forest, buildings}. Develop a classifier that distinguishes the images in the best possible way. In addition there is a set of images with no label data. Predict those images and check with a few of them whether or not your model works as expected.\n",
                "\n",
                "--------------------------------------------"
            ]
        },
        {
            "cell_type": "markdown",
            "metadata": {},
            "source": [
                "### 11. data set\n",
                "\n",
                "* Data set: Rice \n",
                "* Type: Classification of five different types of rice grains by their images\n",
                "* Team: K\n",
                "* Download link: https://th-koeln.sciebo.de/s/T0PbLVhaJneyog0\n",
                "* Description: This data set contains partitions of images of different rice grains. These are {Arborio, Basmati, Ipsala, Jasmine, Karacadag}. Develop a classifier that distinguishes the images in the best possible way.\n",
                "\n",
                "--------------------------------------------"
            ]
        },
        {
            "cell_type": "markdown",
            "metadata": {},
            "source": [
                "### 12. data set\n",
                "\n",
                "* Data set: Skin Cancer\n",
                "* Type: Classification of images of benign (gutartig) and malignant (bösartig) skin cancer\n",
                "* Team: L\n",
                "* Download link: https://th-koeln.sciebo.de/s/gO2tCijZnXnPTTa\n",
                "* Description: This data set contains partitions of images of different skin cancer types. These are {benign, malignant}. Develop a classifier that distinguishes the images in the best possible way.\n",
                "\n",
                "--------------------------------------------"
            ]
        },
        {
            "cell_type": "markdown",
            "metadata": {},
            "source": [
                "### 13. data set\n",
                "\n",
                "* Data set: Pistachio\n",
                "* Type: Classification of images of two different kinds of pistachio nuts\n",
                "* Team: M\n",
                "* Download link: https://th-koeln.sciebo.de/s/1HE4puGwQt8534P\n",
                "* Description: This data set contains partitions of images of different pistachio nut types. These are {Kirmizi, Siirt}. Develop a classifier that distinguishes the images in the best possible way.\n",
                "\n",
                "--------------------------------------------"
            ]
        },
        {
            "cell_type": "code",
            "execution_count": null,
            "metadata": {},
            "outputs": [],
            "source": []
        }
    ],
    "metadata": {
        "language_info": {
            "name": "python",
            "pygments_lexer": "ipython3"
        }
    },
    "nbformat": 4,
    "nbformat_minor": 4
}
